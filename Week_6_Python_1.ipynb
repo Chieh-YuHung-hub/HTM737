{
  "nbformat": 4,
  "nbformat_minor": 0,
  "metadata": {
    "colab": {
      "provenance": [],
      "authorship_tag": "ABX9TyOSjiOkjLxFJo8gZ4m8aWKs",
      "include_colab_link": true
    },
    "kernelspec": {
      "name": "python3",
      "display_name": "Python 3"
    },
    "language_info": {
      "name": "python"
    }
  },
  "cells": [
    {
      "cell_type": "markdown",
      "metadata": {
        "id": "view-in-github",
        "colab_type": "text"
      },
      "source": [
        "<a href=\"https://colab.research.google.com/github/Chieh-YuHung-hub/HTM737/blob/main/Week_6_Python_1.ipynb\" target=\"_parent\"><img src=\"https://colab.research.google.com/assets/colab-badge.svg\" alt=\"Open In Colab\"/></a>"
      ]
    },
    {
      "cell_type": "code",
      "execution_count": null,
      "metadata": {
        "id": "cxpgmfzv36wY"
      },
      "outputs": [],
      "source": [
        "#create string. We use # in Python to take some notes. The function is just like we use -- to note in SQL.\n",
        "mname = 'John'"
      ]
    },
    {
      "cell_type": "code",
      "source": [
        "print(mname) #We use print() when we need to see some information.However, SELECT in SQL not only shows information, but also query the database."
      ],
      "metadata": {
        "colab": {
          "base_uri": "https://localhost:8080/"
        },
        "id": "4gRIPuz84XJJ",
        "outputId": "11ff1e81-4214-4425-a3d3-7f5e7e45a75c"
      },
      "execution_count": null,
      "outputs": [
        {
          "output_type": "stream",
          "name": "stdout",
          "text": [
            "John\n"
          ]
        }
      ]
    },
    {
      "cell_type": "code",
      "source": [
        "print(mname[0:2]) #the value after the colon is NOT included\n",
        "#which means read up to 2\n",
        "#what we did here is that we sliced the string by index which is the order, location of the character"
      ],
      "metadata": {
        "colab": {
          "base_uri": "https://localhost:8080/"
        },
        "id": "nWWXzoMp4lW5",
        "outputId": "f8293997-7df5-4bc2-8f71-dcc0c413501e"
      },
      "execution_count": null,
      "outputs": [
        {
          "output_type": "stream",
          "name": "stdout",
          "text": [
            "Jo\n"
          ]
        }
      ]
    },
    {
      "cell_type": "code",
      "source": [
        "MCPHS_zip_code = '02115-2345'"
      ],
      "metadata": {
        "id": "mInaJyum5uZ_"
      },
      "execution_count": null,
      "outputs": []
    },
    {
      "cell_type": "code",
      "source": [
        "print(MCPHS_zip_code [0:5])"
      ],
      "metadata": {
        "colab": {
          "base_uri": "https://localhost:8080/"
        },
        "id": "-XSg1zLo6KS5",
        "outputId": "efb9a71b-c30f-4c84-caad-5edf2ee465f1"
      },
      "execution_count": null,
      "outputs": [
        {
          "output_type": "stream",
          "name": "stdout",
          "text": [
            "02115\n"
          ]
        }
      ]
    },
    {
      "cell_type": "code",
      "source": [
        "print(MCPHS_zip_code [-1])"
      ],
      "metadata": {
        "colab": {
          "base_uri": "https://localhost:8080/"
        },
        "id": "sw2jtxyG7kfi",
        "outputId": "297b335e-79ed-424a-c769-1af9a124430a"
      },
      "execution_count": null,
      "outputs": [
        {
          "output_type": "stream",
          "name": "stdout",
          "text": [
            "5\n"
          ]
        }
      ]
    },
    {
      "cell_type": "code",
      "source": [
        "john_age = 65"
      ],
      "metadata": {
        "id": "qwrwtWNM7vT6"
      },
      "execution_count": null,
      "outputs": []
    },
    {
      "cell_type": "code",
      "source": [
        "print(john_age)"
      ],
      "metadata": {
        "colab": {
          "base_uri": "https://localhost:8080/"
        },
        "id": "NKHdRgAl70uX",
        "outputId": "5769bbd7-eac9-4fdc-c41c-9adb0d4dc261"
      },
      "execution_count": null,
      "outputs": [
        {
          "output_type": "stream",
          "name": "stdout",
          "text": [
            "65\n"
          ]
        }
      ]
    },
    {
      "cell_type": "code",
      "source": [
        "print (john_age - 5)"
      ],
      "metadata": {
        "colab": {
          "base_uri": "https://localhost:8080/"
        },
        "id": "Rk7Ux8fG76Zx",
        "outputId": "8704b515-e4dc-4ce4-b459-83e054969a80"
      },
      "execution_count": null,
      "outputs": [
        {
          "output_type": "stream",
          "name": "stdout",
          "text": [
            "60\n"
          ]
        }
      ]
    },
    {
      "cell_type": "code",
      "source": [
        "2*2"
      ],
      "metadata": {
        "colab": {
          "base_uri": "https://localhost:8080/"
        },
        "id": "nNZlg6sv8F01",
        "outputId": "dbfe30a1-943a-4a98-ad27-1e8df55bd683"
      },
      "execution_count": null,
      "outputs": [
        {
          "output_type": "execute_result",
          "data": {
            "text/plain": [
              "4"
            ]
          },
          "metadata": {},
          "execution_count": 27
        }
      ]
    },
    {
      "cell_type": "code",
      "source": [
        "john_weight = 150.7 #this is float because it has declimals"
      ],
      "metadata": {
        "id": "w_kSA1pb8MHJ"
      },
      "execution_count": null,
      "outputs": []
    },
    {
      "cell_type": "code",
      "source": [
        "print(int(john_weight))\n",
        "#integer rounds down (cut the decimal)\n",
        "#integer has no decimals"
      ],
      "metadata": {
        "colab": {
          "base_uri": "https://localhost:8080/"
        },
        "id": "WSMGQLa39D_F",
        "outputId": "3c47d5f6-09f2-4c1e-f4af-0563b9dc0a7f"
      },
      "execution_count": null,
      "outputs": [
        {
          "output_type": "stream",
          "name": "stdout",
          "text": [
            "150\n"
          ]
        }
      ]
    },
    {
      "cell_type": "code",
      "source": [
        "john_weight_int = 150"
      ],
      "metadata": {
        "id": "3ARqRgoP9pty"
      },
      "execution_count": null,
      "outputs": []
    },
    {
      "cell_type": "code",
      "source": [
        "print(float(john_weight_int))"
      ],
      "metadata": {
        "colab": {
          "base_uri": "https://localhost:8080/"
        },
        "id": "-FwmcBAh9t-K",
        "outputId": "c6b85428-c6f3-4bd9-eaa7-b507e7d0f017"
      },
      "execution_count": null,
      "outputs": [
        {
          "output_type": "stream",
          "name": "stdout",
          "text": [
            "150.0\n"
          ]
        }
      ]
    },
    {
      "cell_type": "code",
      "source": [
        "john_weight_str = str(john_weight_int) #converted to text"
      ],
      "metadata": {
        "id": "mIZo2sBP9zUz"
      },
      "execution_count": null,
      "outputs": []
    },
    {
      "cell_type": "code",
      "source": [
        "print(john_weight_int/2)"
      ],
      "metadata": {
        "colab": {
          "base_uri": "https://localhost:8080/"
        },
        "id": "meHO0NyY-NAo",
        "outputId": "c92ee430-3d80-4a7f-dd78-c1f9614c7252"
      },
      "execution_count": null,
      "outputs": [
        {
          "output_type": "stream",
          "name": "stdout",
          "text": [
            "75.0\n"
          ]
        }
      ]
    },
    {
      "cell_type": "code",
      "source": [
        "print(john_weight_str/2) #error because we cannot do math operations on text"
      ],
      "metadata": {
        "colab": {
          "base_uri": "https://localhost:8080/",
          "height": 141
        },
        "id": "iR3QD_6y_KxG",
        "outputId": "9c02765d-3d65-4060-b7e0-3dc88710531d"
      },
      "execution_count": null,
      "outputs": [
        {
          "output_type": "error",
          "ename": "TypeError",
          "evalue": "unsupported operand type(s) for /: 'str' and 'int'",
          "traceback": [
            "\u001b[0;31m---------------------------------------------------------------------------\u001b[0m",
            "\u001b[0;31mTypeError\u001b[0m                                 Traceback (most recent call last)",
            "\u001b[0;32m/tmp/ipython-input-1931583118.py\u001b[0m in \u001b[0;36m<cell line: 0>\u001b[0;34m()\u001b[0m\n\u001b[0;32m----> 1\u001b[0;31m \u001b[0mprint\u001b[0m\u001b[0;34m(\u001b[0m\u001b[0mjohn_weight_str\u001b[0m\u001b[0;34m/\u001b[0m\u001b[0;36m2\u001b[0m\u001b[0;34m)\u001b[0m\u001b[0;34m\u001b[0m\u001b[0;34m\u001b[0m\u001b[0m\n\u001b[0m",
            "\u001b[0;31mTypeError\u001b[0m: unsupported operand type(s) for /: 'str' and 'int'"
          ]
        }
      ]
    },
    {
      "cell_type": "code",
      "source": [
        "first_list =['a',1]"
      ],
      "metadata": {
        "id": "IvKQP-aAAzT7"
      },
      "execution_count": null,
      "outputs": []
    },
    {
      "cell_type": "code",
      "source": [
        "print(first_list[0])"
      ],
      "metadata": {
        "colab": {
          "base_uri": "https://localhost:8080/"
        },
        "id": "MQXxIfayBHiN",
        "outputId": "de3ca61e-d115-449c-97bb-96f6ca692dea"
      },
      "execution_count": null,
      "outputs": [
        {
          "output_type": "stream",
          "name": "stdout",
          "text": [
            "a\n"
          ]
        }
      ]
    },
    {
      "cell_type": "code",
      "source": [
        "first_list[0] ='ab'"
      ],
      "metadata": {
        "id": "bGMdnagBBYa8"
      },
      "execution_count": null,
      "outputs": []
    },
    {
      "cell_type": "code",
      "source": [
        "print(first_list)"
      ],
      "metadata": {
        "colab": {
          "base_uri": "https://localhost:8080/"
        },
        "id": "rU_pu4VtBmAM",
        "outputId": "7a11ba92-c46e-437c-a7ff-8ca358e2993f"
      },
      "execution_count": null,
      "outputs": [
        {
          "output_type": "stream",
          "name": "stdout",
          "text": [
            "['ab', 1]\n"
          ]
        }
      ]
    },
    {
      "cell_type": "code",
      "source": [
        "first_tuple = ('a',1)"
      ],
      "metadata": {
        "id": "46mXukdlCPYJ"
      },
      "execution_count": null,
      "outputs": []
    },
    {
      "cell_type": "code",
      "source": [
        "first_tuple [0]"
      ],
      "metadata": {
        "colab": {
          "base_uri": "https://localhost:8080/",
          "height": 35
        },
        "id": "r6FgWwK6CXbJ",
        "outputId": "d400d1dd-89ca-40de-ec38-eb67a9106d7b"
      },
      "execution_count": null,
      "outputs": [
        {
          "output_type": "execute_result",
          "data": {
            "text/plain": [
              "'a'"
            ],
            "application/vnd.google.colaboratory.intrinsic+json": {
              "type": "string"
            }
          },
          "metadata": {},
          "execution_count": 51
        }
      ]
    },
    {
      "cell_type": "code",
      "source": [
        "first_tuple [0] ='ab' # tuple is not changable"
      ],
      "metadata": {
        "colab": {
          "base_uri": "https://localhost:8080/",
          "height": 141
        },
        "id": "bWH-FlInCnwp",
        "outputId": "74683ff6-a41e-4c27-8eca-ce09bf8fe993"
      },
      "execution_count": null,
      "outputs": [
        {
          "output_type": "error",
          "ename": "TypeError",
          "evalue": "'tuple' object does not support item assignment",
          "traceback": [
            "\u001b[0;31m---------------------------------------------------------------------------\u001b[0m",
            "\u001b[0;31mTypeError\u001b[0m                                 Traceback (most recent call last)",
            "\u001b[0;32m/tmp/ipython-input-599106347.py\u001b[0m in \u001b[0;36m<cell line: 0>\u001b[0;34m()\u001b[0m\n\u001b[0;32m----> 1\u001b[0;31m \u001b[0mfirst_tuple\u001b[0m \u001b[0;34m[\u001b[0m\u001b[0;36m0\u001b[0m\u001b[0;34m]\u001b[0m \u001b[0;34m=\u001b[0m\u001b[0;34m'ab'\u001b[0m\u001b[0;34m\u001b[0m\u001b[0;34m\u001b[0m\u001b[0m\n\u001b[0m",
            "\u001b[0;31mTypeError\u001b[0m: 'tuple' object does not support item assignment"
          ]
        }
      ]
    },
    {
      "cell_type": "code",
      "source": [
        "first_dist = {'john_age':65, 'heather_age':45}"
      ],
      "metadata": {
        "id": "-MTUiyIWC4wQ"
      },
      "execution_count": null,
      "outputs": []
    },
    {
      "cell_type": "code",
      "source": [
        "print(first_dist['john_age'])"
      ],
      "metadata": {
        "colab": {
          "base_uri": "https://localhost:8080/"
        },
        "id": "jrpFlNWbDpCT",
        "outputId": "5958d90c-ade7-4d14-b4cb-4e6b5549eb04"
      },
      "execution_count": null,
      "outputs": [
        {
          "output_type": "stream",
          "name": "stdout",
          "text": [
            "65\n"
          ]
        }
      ]
    },
    {
      "cell_type": "code",
      "metadata": {
        "colab": {
          "base_uri": "https://localhost:8080/"
        },
        "id": "89b65f47",
        "outputId": "3fbfd8b0-8d51-4651-f1dc-44763e780832"
      },
      "source": [
        "# Create the first set\n",
        "set1 = {1, 2, 3}\n",
        "\n",
        "# Create the second set\n",
        "set2 = {3, 4, 5}\n",
        "\n",
        "# Find the union of the two sets\n",
        "union_set = set1.union(set2)\n",
        "\n",
        "# Print the union set\n",
        "print(union_set)"
      ],
      "execution_count": null,
      "outputs": [
        {
          "output_type": "stream",
          "name": "stdout",
          "text": [
            "{1, 2, 3, 4, 5}\n"
          ]
        }
      ]
    },
    {
      "cell_type": "code",
      "source": [
        "def f_to_c(temp_f):\n",
        "  temp_c = round((temp_f-32)*5/9,1)\n",
        "  return temp_c"
      ],
      "metadata": {
        "id": "DcHksrM2Ggr4"
      },
      "execution_count": null,
      "outputs": []
    },
    {
      "cell_type": "code",
      "source": [
        "f_to_c(45)"
      ],
      "metadata": {
        "colab": {
          "base_uri": "https://localhost:8080/"
        },
        "id": "Q-YM5U6UHSlA",
        "outputId": "3bbc5808-f534-4b84-dbd3-d7c336f457a0"
      },
      "execution_count": null,
      "outputs": [
        {
          "output_type": "execute_result",
          "data": {
            "text/plain": [
              "7.2"
            ]
          },
          "metadata": {},
          "execution_count": 67
        }
      ]
    },
    {
      "cell_type": "code",
      "source": [
        "def my_secret_fuction(w,h):\n",
        "  bmi= w/h**2\n",
        "  return bmi"
      ],
      "metadata": {
        "id": "8x8Y7d8zIqWG"
      },
      "execution_count": null,
      "outputs": []
    },
    {
      "cell_type": "code",
      "source": [
        "my_secret_fuction(h=1.7, w=65)"
      ],
      "metadata": {
        "colab": {
          "base_uri": "https://localhost:8080/"
        },
        "id": "5EhPfIfqJ8PH",
        "outputId": "e656217a-8e9c-4fad-9de7-b3954c929627"
      },
      "execution_count": null,
      "outputs": [
        {
          "output_type": "execute_result",
          "data": {
            "text/plain": [
              "22.49134948096886"
            ]
          },
          "metadata": {},
          "execution_count": 81
        }
      ]
    },
    {
      "cell_type": "code",
      "source": [
        "def calculate_bmi_category(weight_kg, height_m):\n",
        "    bmi = weight_kg / (height_m ** 2)\n",
        "\n",
        "    if bmi < 18.5:\n",
        "        return f\"BMI: {bmi:.1f} - Underweight\"\n",
        "    elif bmi < 25:\n",
        "        return f\"BMI: {bmi:.1f} - Normal weight\"\n",
        "    elif bmi < 30:\n",
        "        return f\"BMI: {bmi:.1f} - Overweight\"\n",
        "    else:\n",
        "        return f\"BMI: {bmi:.1f} - Obese\""
      ],
      "metadata": {
        "id": "xUPi_OE1NBth"
      },
      "execution_count": null,
      "outputs": []
    },
    {
      "cell_type": "code",
      "source": [
        "calculate_bmi_category (height_m=1.71, weight_kg=80)"
      ],
      "metadata": {
        "colab": {
          "base_uri": "https://localhost:8080/",
          "height": 35
        },
        "id": "_zXVtHYANdbe",
        "outputId": "3969024d-fbd7-4001-cb75-bbffd68360a9"
      },
      "execution_count": null,
      "outputs": [
        {
          "output_type": "execute_result",
          "data": {
            "text/plain": [
              "'BMI: 27.4 - Overweight'"
            ],
            "application/vnd.google.colaboratory.intrinsic+json": {
              "type": "string"
            }
          },
          "metadata": {},
          "execution_count": 85
        }
      ]
    },
    {
      "cell_type": "code",
      "source": [
        "import pandas as pd"
      ],
      "metadata": {
        "id": "LNR0PQIIRjn5"
      },
      "execution_count": null,
      "outputs": []
    }
  ]
}