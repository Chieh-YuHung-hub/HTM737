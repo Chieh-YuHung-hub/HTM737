{
  "nbformat": 4,
  "nbformat_minor": 0,
  "metadata": {
    "colab": {
      "provenance": [],
      "authorship_tag": "ABX9TyPHOxs6kDpMYLDdcSmFF0au",
      "include_colab_link": true
    },
    "kernelspec": {
      "name": "python3",
      "display_name": "Python 3"
    },
    "language_info": {
      "name": "python"
    }
  },
  "cells": [
    {
      "cell_type": "markdown",
      "metadata": {
        "id": "view-in-github",
        "colab_type": "text"
      },
      "source": [
        "<a href=\"https://colab.research.google.com/github/Chieh-YuHung-hub/HTM737/blob/main/Week_6_Python_1.ipynb\" target=\"_parent\"><img src=\"https://colab.research.google.com/assets/colab-badge.svg\" alt=\"Open In Colab\"/></a>"
      ]
    },
    {
      "cell_type": "code",
      "source": [
        "#We learned the differences betwwen SQL and Python.\n",
        "#The data structure of SQL is tables, and the of Python is varaibles(words), data containers(sentences), and dataframe(Table).\n",
        "#Since the data storage of SQL is persistent, and that of Python is transient\n",
        "#we usually clean data via SQL, and then input the cleaned data to build models via Python. After training models, we store the outcomes in SQL.\n",
        "#We compared Excel and Python. The differences between tham are:\n",
        "#There is almost no limitaion in Python, but around 1M rows in Excel\n",
        "#Python is free and open-source software available to the public.\n",
        "#It is hard to track steps in Excel, but it's available in Pytthon by running code.\n",
        "#API (Application Programming Interface) is a tool that allows different programs to communicate and exchange data."
      ],
      "metadata": {
        "id": "BrKJ23jK0OhZ"
      },
      "execution_count": null,
      "outputs": []
    },
    {
      "cell_type": "code",
      "execution_count": null,
      "metadata": {
        "id": "cxpgmfzv36wY"
      },
      "outputs": [],
      "source": [
        "mname = 'John'\n",
        "#create string. We use # in Python to take some notes. The function is just like we use -- to note in SQL."
      ]
    },
    {
      "cell_type": "code",
      "source": [
        "print(mname)\n",
        "#We use print() when we need to see some information.\n",
        "#However, SELECT in SQL not only shows information, but also query the database."
      ],
      "metadata": {
        "colab": {
          "base_uri": "https://localhost:8080/"
        },
        "id": "4gRIPuz84XJJ",
        "outputId": "67da87ba-7827-4991-e62a-8899ab0b195c"
      },
      "execution_count": null,
      "outputs": [
        {
          "output_type": "stream",
          "name": "stdout",
          "text": [
            "John\n"
          ]
        }
      ]
    },
    {
      "cell_type": "code",
      "source": [
        "print(mname[0:2])\n",
        "#the value after the colon is NOT included\n",
        "#which means read up to 2\n",
        "#what we did here is that we sliced the string by index which is the order, location of the character\n",
        "#In Python, counting starts from 0, not 1."
      ],
      "metadata": {
        "colab": {
          "base_uri": "https://localhost:8080/"
        },
        "id": "nWWXzoMp4lW5",
        "outputId": "45648d2e-3506-46e4-baab-1e837e52c370"
      },
      "execution_count": null,
      "outputs": [
        {
          "output_type": "stream",
          "name": "stdout",
          "text": [
            "Jo\n"
          ]
        }
      ]
    },
    {
      "cell_type": "code",
      "source": [
        "MCPHS_zip_code = '02115-2345'\n",
        "#We need to add quotation marks''as the zip code is a string, not a number."
      ],
      "metadata": {
        "id": "mInaJyum5uZ_"
      },
      "execution_count": null,
      "outputs": []
    },
    {
      "cell_type": "code",
      "source": [
        "print(MCPHS_zip_code [0:5])\n",
        "#This indicates to show the first 5 digits of the zip code, which includes the 0, 1st, 2ed, 3rd, and 4th position in the string."
      ],
      "metadata": {
        "colab": {
          "base_uri": "https://localhost:8080/"
        },
        "id": "-XSg1zLo6KS5",
        "outputId": "bc2b106d-b8ee-4846-88e3-c0634b7997ce"
      },
      "execution_count": null,
      "outputs": [
        {
          "output_type": "stream",
          "name": "stdout",
          "text": [
            "02115\n"
          ]
        }
      ]
    },
    {
      "cell_type": "code",
      "source": [
        "print(MCPHS_zip_code [-1])\n",
        "#This means to take the last digit of the zip code."
      ],
      "metadata": {
        "colab": {
          "base_uri": "https://localhost:8080/"
        },
        "id": "sw2jtxyG7kfi",
        "outputId": "a6c98b90-dd6f-4fce-da5a-c52a269d55e1"
      },
      "execution_count": null,
      "outputs": [
        {
          "output_type": "stream",
          "name": "stdout",
          "text": [
            "5\n"
          ]
        }
      ]
    },
    {
      "cell_type": "code",
      "source": [
        "john_age = 65"
      ],
      "metadata": {
        "id": "qwrwtWNM7vT6"
      },
      "execution_count": null,
      "outputs": []
    },
    {
      "cell_type": "code",
      "source": [
        "print(john_age)"
      ],
      "metadata": {
        "colab": {
          "base_uri": "https://localhost:8080/"
        },
        "id": "NKHdRgAl70uX",
        "outputId": "cc17c1c6-31f0-454a-b55d-8f2249ef443a"
      },
      "execution_count": null,
      "outputs": [
        {
          "output_type": "stream",
          "name": "stdout",
          "text": [
            "65\n"
          ]
        }
      ]
    },
    {
      "cell_type": "code",
      "source": [
        "print (john_age - 5)"
      ],
      "metadata": {
        "colab": {
          "base_uri": "https://localhost:8080/"
        },
        "id": "Rk7Ux8fG76Zx",
        "outputId": "8704b515-e4dc-4ce4-b459-83e054969a80"
      },
      "execution_count": null,
      "outputs": [
        {
          "output_type": "stream",
          "name": "stdout",
          "text": [
            "60\n"
          ]
        }
      ]
    },
    {
      "cell_type": "code",
      "source": [
        "2*2"
      ],
      "metadata": {
        "colab": {
          "base_uri": "https://localhost:8080/"
        },
        "id": "nNZlg6sv8F01",
        "outputId": "dbfe30a1-943a-4a98-ad27-1e8df55bd683"
      },
      "execution_count": null,
      "outputs": [
        {
          "output_type": "execute_result",
          "data": {
            "text/plain": [
              "4"
            ]
          },
          "metadata": {},
          "execution_count": 27
        }
      ]
    },
    {
      "cell_type": "code",
      "source": [
        "john_weight = 150.7 #this is float because it has decimals"
      ],
      "metadata": {
        "id": "w_kSA1pb8MHJ"
      },
      "execution_count": null,
      "outputs": []
    },
    {
      "cell_type": "code",
      "source": [
        "print(int(john_weight))\n",
        "#integer rounds down (cut the decimal)\n",
        "#integer has no decimals"
      ],
      "metadata": {
        "colab": {
          "base_uri": "https://localhost:8080/"
        },
        "id": "WSMGQLa39D_F",
        "outputId": "06ed5f25-7722-46ca-ea0a-cc8f9f50388f"
      },
      "execution_count": null,
      "outputs": [
        {
          "output_type": "stream",
          "name": "stdout",
          "text": [
            "150\n"
          ]
        }
      ]
    },
    {
      "cell_type": "code",
      "source": [
        "john_weight_int = 150"
      ],
      "metadata": {
        "id": "3ARqRgoP9pty"
      },
      "execution_count": null,
      "outputs": []
    },
    {
      "cell_type": "code",
      "source": [
        "print(float(john_weight_int))\n",
        "#Float here means floating-point number."
      ],
      "metadata": {
        "colab": {
          "base_uri": "https://localhost:8080/"
        },
        "id": "-FwmcBAh9t-K",
        "outputId": "2abf49c9-2404-4352-bbf6-8e28c4636e54"
      },
      "execution_count": null,
      "outputs": [
        {
          "output_type": "stream",
          "name": "stdout",
          "text": [
            "150.0\n"
          ]
        }
      ]
    },
    {
      "cell_type": "code",
      "source": [
        "john_weight_str = str(john_weight_int)\n",
        "#converted to text\n",
        "#For some forms that only accept strings rather than numbers"
      ],
      "metadata": {
        "id": "mIZo2sBP9zUz"
      },
      "execution_count": null,
      "outputs": []
    },
    {
      "cell_type": "code",
      "source": [
        "print(john_weight_int/2)"
      ],
      "metadata": {
        "colab": {
          "base_uri": "https://localhost:8080/"
        },
        "id": "meHO0NyY-NAo",
        "outputId": "c92ee430-3d80-4a7f-dd78-c1f9614c7252"
      },
      "execution_count": null,
      "outputs": [
        {
          "output_type": "stream",
          "name": "stdout",
          "text": [
            "75.0\n"
          ]
        }
      ]
    },
    {
      "cell_type": "code",
      "source": [
        "print(john_weight_str/2)\n",
        "#error because we cannot do math operations on text"
      ],
      "metadata": {
        "colab": {
          "base_uri": "https://localhost:8080/",
          "height": 141
        },
        "id": "iR3QD_6y_KxG",
        "outputId": "9c02765d-3d65-4060-b7e0-3dc88710531d"
      },
      "execution_count": null,
      "outputs": [
        {
          "output_type": "error",
          "ename": "TypeError",
          "evalue": "unsupported operand type(s) for /: 'str' and 'int'",
          "traceback": [
            "\u001b[0;31m---------------------------------------------------------------------------\u001b[0m",
            "\u001b[0;31mTypeError\u001b[0m                                 Traceback (most recent call last)",
            "\u001b[0;32m/tmp/ipython-input-1931583118.py\u001b[0m in \u001b[0;36m<cell line: 0>\u001b[0;34m()\u001b[0m\n\u001b[0;32m----> 1\u001b[0;31m \u001b[0mprint\u001b[0m\u001b[0;34m(\u001b[0m\u001b[0mjohn_weight_str\u001b[0m\u001b[0;34m/\u001b[0m\u001b[0;36m2\u001b[0m\u001b[0;34m)\u001b[0m\u001b[0;34m\u001b[0m\u001b[0;34m\u001b[0m\u001b[0m\n\u001b[0m",
            "\u001b[0;31mTypeError\u001b[0m: unsupported operand type(s) for /: 'str' and 'int'"
          ]
        }
      ]
    },
    {
      "cell_type": "code",
      "source": [
        "first_list =['a',1]\n",
        "#A string 'a' and a number 1.\n",
        "#Square brackets\n",
        "#values can be changed"
      ],
      "metadata": {
        "id": "IvKQP-aAAzT7"
      },
      "execution_count": null,
      "outputs": []
    },
    {
      "cell_type": "code",
      "source": [
        "print(first_list[0])"
      ],
      "metadata": {
        "colab": {
          "base_uri": "https://localhost:8080/"
        },
        "id": "MQXxIfayBHiN",
        "outputId": "aa0ea774-ed91-43d6-e9e2-704c1049afe9"
      },
      "execution_count": null,
      "outputs": [
        {
          "output_type": "stream",
          "name": "stdout",
          "text": [
            "a\n"
          ]
        }
      ]
    },
    {
      "cell_type": "code",
      "source": [
        "first_list[0] ='ab'\n",
        "#Replace 'a' to 'ab'"
      ],
      "metadata": {
        "id": "bGMdnagBBYa8"
      },
      "execution_count": null,
      "outputs": []
    },
    {
      "cell_type": "code",
      "source": [
        "print(first_list)"
      ],
      "metadata": {
        "colab": {
          "base_uri": "https://localhost:8080/"
        },
        "id": "rU_pu4VtBmAM",
        "outputId": "caab6bad-0bf9-4e2a-bfcb-c2cd137c7d27"
      },
      "execution_count": null,
      "outputs": [
        {
          "output_type": "stream",
          "name": "stdout",
          "text": [
            "['ab', 1]\n"
          ]
        }
      ]
    },
    {
      "cell_type": "code",
      "source": [
        "first_tuple = ('a',1)\n",
        "#Parentheses\n",
        "#values cannot be changed\n",
        "#Tuple is suitable to use when we don't want something to be changed.\n",
        "#It is more efficient than list because of its character."
      ],
      "metadata": {
        "id": "46mXukdlCPYJ"
      },
      "execution_count": null,
      "outputs": []
    },
    {
      "cell_type": "code",
      "source": [
        "first_tuple [0]"
      ],
      "metadata": {
        "colab": {
          "base_uri": "https://localhost:8080/",
          "height": 35
        },
        "id": "r6FgWwK6CXbJ",
        "outputId": "d60f53c3-2e96-4160-e804-9eaadee7d878"
      },
      "execution_count": null,
      "outputs": [
        {
          "output_type": "execute_result",
          "data": {
            "text/plain": [
              "'a'"
            ],
            "application/vnd.google.colaboratory.intrinsic+json": {
              "type": "string"
            }
          },
          "metadata": {},
          "execution_count": 46
        }
      ]
    },
    {
      "cell_type": "code",
      "source": [
        "first_tuple [0] ='ab'\n",
        "# tuple is not changable"
      ],
      "metadata": {
        "colab": {
          "base_uri": "https://localhost:8080/",
          "height": 158
        },
        "id": "bWH-FlInCnwp",
        "outputId": "54ad1e72-04c9-4823-9b2c-50f507c5642f"
      },
      "execution_count": null,
      "outputs": [
        {
          "output_type": "error",
          "ename": "TypeError",
          "evalue": "'tuple' object does not support item assignment",
          "traceback": [
            "\u001b[0;31m---------------------------------------------------------------------------\u001b[0m",
            "\u001b[0;31mTypeError\u001b[0m                                 Traceback (most recent call last)",
            "\u001b[0;32m/tmp/ipython-input-2036175351.py\u001b[0m in \u001b[0;36m<cell line: 0>\u001b[0;34m()\u001b[0m\n\u001b[0;32m----> 1\u001b[0;31m \u001b[0mfirst_tuple\u001b[0m \u001b[0;34m[\u001b[0m\u001b[0;36m0\u001b[0m\u001b[0;34m]\u001b[0m \u001b[0;34m=\u001b[0m\u001b[0;34m'ab'\u001b[0m\u001b[0;34m\u001b[0m\u001b[0;34m\u001b[0m\u001b[0m\n\u001b[0m\u001b[1;32m      2\u001b[0m \u001b[0;31m# tuple is not changable\u001b[0m\u001b[0;34m\u001b[0m\u001b[0;34m\u001b[0m\u001b[0m\n",
            "\u001b[0;31mTypeError\u001b[0m: 'tuple' object does not support item assignment"
          ]
        }
      ]
    },
    {
      "cell_type": "code",
      "source": [
        "first_dist = {'john_age':65, 'heather_age':45}\n",
        "#Structure: {key: value, key2: value2, ...}\n",
        "#Curly bracket\n",
        "#Easier to access values by keys\n",
        "#Values and be changed"
      ],
      "metadata": {
        "id": "-MTUiyIWC4wQ"
      },
      "execution_count": null,
      "outputs": []
    },
    {
      "cell_type": "code",
      "source": [
        "print(first_dist['john_age'])"
      ],
      "metadata": {
        "colab": {
          "base_uri": "https://localhost:8080/"
        },
        "id": "jrpFlNWbDpCT",
        "outputId": "cd9ee7ce-a955-4045-f993-86fe3240acc1"
      },
      "execution_count": null,
      "outputs": [
        {
          "output_type": "stream",
          "name": "stdout",
          "text": [
            "65\n"
          ]
        }
      ]
    },
    {
      "cell_type": "code",
      "metadata": {
        "colab": {
          "base_uri": "https://localhost:8080/"
        },
        "id": "89b65f47",
        "outputId": "50c4890b-7b2d-4ded-ca48-4497966949dd"
      },
      "source": [
        "# Create the first set\n",
        "set1 = {1, 2, 3}\n",
        "\n",
        "# Create the second set\n",
        "set2 = {3, 4, 5}\n",
        "\n",
        "# Find the union of the two sets\n",
        "union_set = set1.union(set2)\n",
        "\n",
        "# Print the union set\n",
        "print(union_set)"
      ],
      "execution_count": null,
      "outputs": [
        {
          "output_type": "stream",
          "name": "stdout",
          "text": [
            "{1, 2, 3, 4, 5}\n"
          ]
        }
      ]
    },
    {
      "cell_type": "code",
      "source": [
        "def f_to_c(temp_f):\n",
        "  temp_c = round((temp_f-32)*5/9,1)\n",
        "  return temp_c\n",
        "  #def(define)+(Function name)+(input)+:(colon)+function+return"
      ],
      "metadata": {
        "id": "DcHksrM2Ggr4"
      },
      "execution_count": null,
      "outputs": []
    },
    {
      "cell_type": "code",
      "source": [
        "f_to_c(45)"
      ],
      "metadata": {
        "colab": {
          "base_uri": "https://localhost:8080/"
        },
        "id": "Q-YM5U6UHSlA",
        "outputId": "515df5ce-4332-4ba2-9895-fc31780ea8c2"
      },
      "execution_count": null,
      "outputs": [
        {
          "output_type": "execute_result",
          "data": {
            "text/plain": [
              "7.2"
            ]
          },
          "metadata": {},
          "execution_count": 52
        }
      ]
    },
    {
      "cell_type": "code",
      "source": [
        "def my_secret_fuction(w,h):\n",
        "  bmi= w/h**2\n",
        "  return bmi\n",
        "  #2 variables"
      ],
      "metadata": {
        "id": "8x8Y7d8zIqWG"
      },
      "execution_count": null,
      "outputs": []
    },
    {
      "cell_type": "code",
      "source": [
        "my_secret_fuction(h=1.7, w=65)"
      ],
      "metadata": {
        "colab": {
          "base_uri": "https://localhost:8080/"
        },
        "id": "5EhPfIfqJ8PH",
        "outputId": "2e0ab570-a4e9-4a42-f376-322adacaf33f"
      },
      "execution_count": null,
      "outputs": [
        {
          "output_type": "execute_result",
          "data": {
            "text/plain": [
              "22.49134948096886"
            ]
          },
          "metadata": {},
          "execution_count": 54
        }
      ]
    },
    {
      "cell_type": "code",
      "source": [
        "def calculate_bmi_category(weight_kg, height_m):\n",
        "    bmi = weight_kg / (height_m ** 2)\n",
        "\n",
        "    if bmi < 18.5:\n",
        "        return f\"BMI: {bmi:.1f} - Underweight\"\n",
        "    elif bmi < 25:\n",
        "        return f\"BMI: {bmi:.1f} - Normal weight\"\n",
        "    elif bmi < 30:\n",
        "        return f\"BMI: {bmi:.1f} - Overweight\"\n",
        "    else:\n",
        "        return f\"BMI: {bmi:.1f} - Obese\"\n",
        "        #The main idea of \"If...Else...\" in Python is like \"Case When...Then...Else...\"\n",
        "        #f\" \"represents f-string\n",
        "        #.1f represents round to 1 decimal place"
      ],
      "metadata": {
        "id": "xUPi_OE1NBth"
      },
      "execution_count": null,
      "outputs": []
    },
    {
      "cell_type": "code",
      "source": [
        "calculate_bmi_category (height_m=1.71, weight_kg=80)"
      ],
      "metadata": {
        "colab": {
          "base_uri": "https://localhost:8080/",
          "height": 35
        },
        "id": "_zXVtHYANdbe",
        "outputId": "9afa8cd8-398b-4496-ba09-1fdecc820e01"
      },
      "execution_count": null,
      "outputs": [
        {
          "output_type": "execute_result",
          "data": {
            "text/plain": [
              "'BMI: 27.4 - Overweight'"
            ],
            "application/vnd.google.colaboratory.intrinsic+json": {
              "type": "string"
            }
          },
          "metadata": {},
          "execution_count": 58
        }
      ]
    },
    {
      "cell_type": "code",
      "source": [
        "import pandas as pd\n",
        "#import library"
      ],
      "metadata": {
        "id": "LNR0PQIIRjn5"
      },
      "execution_count": null,
      "outputs": []
    }
  ]
}